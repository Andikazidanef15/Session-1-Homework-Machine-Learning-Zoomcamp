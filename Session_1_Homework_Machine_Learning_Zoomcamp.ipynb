{
  "nbformat": 4,
  "nbformat_minor": 0,
  "metadata": {
    "colab": {
      "name": "Session #1 Homework Machine Learning Zoomcamp.ipynb",
      "provenance": [],
      "toc_visible": true
    },
    "kernelspec": {
      "name": "python3",
      "display_name": "Python 3"
    },
    "language_info": {
      "name": "python"
    }
  },
  "cells": [
    {
      "cell_type": "markdown",
      "metadata": {
        "id": "lliPztrDCujL"
      },
      "source": [
        "# Contents\n",
        "1. Question 1: What's the version of NumPy that you installed?\n",
        "2. Question 2: What's the version of Pandas?\n",
        "3. Question 3: What's the average price of BMW cars in the dataset?\n",
        "4. Question 4: Select a subset of cars after year 2015 (inclusive, i.e. 2015 and after). How many of them have missing values for Engine HP?\n",
        "5. Question 5: \n",
        "  *   Calculate the average \"Engine HP\" in the dataset.\n",
        "  *   Use the fillna method and to fill the missing values in \"Engine HP\" with the mean value from the previous step.\n",
        "  *   Now, calculate the average of \"Engine HP\" again.\n",
        "  *   Has it changed?\n",
        "6. Question 6:\n",
        "  * Select all the \"Rolls-Royce\" cars from the dataset.\n",
        "  * Select only columns \"Engine HP\", \"Engine Cylinders\", \"highway MPG\".\n",
        "  * Drop all duplicated rows using drop_duplicates method (you should get a dataframe with 7 rows).\n",
        "  * Get the underlying NumPy array. Let's call it X.\n",
        "  * Compute matrix-matrix multiplication between the transpose of X and X. To get the transpose, use X.T. Let's call the result XTX.\n",
        "  * Invert XTX.\n",
        "  * What's the sum of all the elements of the result?\n",
        "7. Question 7:\n",
        "  * Create an array y with values [1000, 1100, 900, 1200, 1000, 850, 1300].\n",
        "  * Multiply the inverse of XTX with the transpose of X, and then multiply the result by y. Call the result w.\n",
        "  * What's the value of the first element of w?.\n",
        "\n",
        "\n",
        "\n"
      ]
    },
    {
      "cell_type": "code",
      "metadata": {
        "id": "sy-lZXZ_CZRW"
      },
      "source": [
        "# Import packages\n",
        "import matplotlib.pyplot as plt\n",
        "import numpy as np\n",
        "import pandas as pd\n",
        "import seaborn as sns"
      ],
      "execution_count": 1,
      "outputs": []
    },
    {
      "cell_type": "code",
      "metadata": {
        "id": "L7slFg2-Ff0z"
      },
      "source": [
        "# Getting the data\n",
        "link = 'https://raw.githubusercontent.com/alexeygrigorev/mlbookcamp-code/master/chapter-02-car-price/data.csv'\n",
        "\n",
        "car_price = pd.read_csv(link)"
      ],
      "execution_count": 4,
      "outputs": []
    },
    {
      "cell_type": "code",
      "metadata": {
        "colab": {
          "base_uri": "https://localhost:8080/",
          "height": 406
        },
        "id": "ba3Zot7fGfuZ",
        "outputId": "36a752ac-cb91-445b-9480-ab5f804e68d3"
      },
      "source": [
        "car_price.head()"
      ],
      "execution_count": 5,
      "outputs": [
        {
          "output_type": "execute_result",
          "data": {
            "text/html": [
              "<div>\n",
              "<style scoped>\n",
              "    .dataframe tbody tr th:only-of-type {\n",
              "        vertical-align: middle;\n",
              "    }\n",
              "\n",
              "    .dataframe tbody tr th {\n",
              "        vertical-align: top;\n",
              "    }\n",
              "\n",
              "    .dataframe thead th {\n",
              "        text-align: right;\n",
              "    }\n",
              "</style>\n",
              "<table border=\"1\" class=\"dataframe\">\n",
              "  <thead>\n",
              "    <tr style=\"text-align: right;\">\n",
              "      <th></th>\n",
              "      <th>Make</th>\n",
              "      <th>Model</th>\n",
              "      <th>Year</th>\n",
              "      <th>Engine Fuel Type</th>\n",
              "      <th>Engine HP</th>\n",
              "      <th>Engine Cylinders</th>\n",
              "      <th>Transmission Type</th>\n",
              "      <th>Driven_Wheels</th>\n",
              "      <th>Number of Doors</th>\n",
              "      <th>Market Category</th>\n",
              "      <th>Vehicle Size</th>\n",
              "      <th>Vehicle Style</th>\n",
              "      <th>highway MPG</th>\n",
              "      <th>city mpg</th>\n",
              "      <th>Popularity</th>\n",
              "      <th>MSRP</th>\n",
              "    </tr>\n",
              "  </thead>\n",
              "  <tbody>\n",
              "    <tr>\n",
              "      <th>0</th>\n",
              "      <td>BMW</td>\n",
              "      <td>1 Series M</td>\n",
              "      <td>2011</td>\n",
              "      <td>premium unleaded (required)</td>\n",
              "      <td>335.0</td>\n",
              "      <td>6.0</td>\n",
              "      <td>MANUAL</td>\n",
              "      <td>rear wheel drive</td>\n",
              "      <td>2.0</td>\n",
              "      <td>Factory Tuner,Luxury,High-Performance</td>\n",
              "      <td>Compact</td>\n",
              "      <td>Coupe</td>\n",
              "      <td>26</td>\n",
              "      <td>19</td>\n",
              "      <td>3916</td>\n",
              "      <td>46135</td>\n",
              "    </tr>\n",
              "    <tr>\n",
              "      <th>1</th>\n",
              "      <td>BMW</td>\n",
              "      <td>1 Series</td>\n",
              "      <td>2011</td>\n",
              "      <td>premium unleaded (required)</td>\n",
              "      <td>300.0</td>\n",
              "      <td>6.0</td>\n",
              "      <td>MANUAL</td>\n",
              "      <td>rear wheel drive</td>\n",
              "      <td>2.0</td>\n",
              "      <td>Luxury,Performance</td>\n",
              "      <td>Compact</td>\n",
              "      <td>Convertible</td>\n",
              "      <td>28</td>\n",
              "      <td>19</td>\n",
              "      <td>3916</td>\n",
              "      <td>40650</td>\n",
              "    </tr>\n",
              "    <tr>\n",
              "      <th>2</th>\n",
              "      <td>BMW</td>\n",
              "      <td>1 Series</td>\n",
              "      <td>2011</td>\n",
              "      <td>premium unleaded (required)</td>\n",
              "      <td>300.0</td>\n",
              "      <td>6.0</td>\n",
              "      <td>MANUAL</td>\n",
              "      <td>rear wheel drive</td>\n",
              "      <td>2.0</td>\n",
              "      <td>Luxury,High-Performance</td>\n",
              "      <td>Compact</td>\n",
              "      <td>Coupe</td>\n",
              "      <td>28</td>\n",
              "      <td>20</td>\n",
              "      <td>3916</td>\n",
              "      <td>36350</td>\n",
              "    </tr>\n",
              "    <tr>\n",
              "      <th>3</th>\n",
              "      <td>BMW</td>\n",
              "      <td>1 Series</td>\n",
              "      <td>2011</td>\n",
              "      <td>premium unleaded (required)</td>\n",
              "      <td>230.0</td>\n",
              "      <td>6.0</td>\n",
              "      <td>MANUAL</td>\n",
              "      <td>rear wheel drive</td>\n",
              "      <td>2.0</td>\n",
              "      <td>Luxury,Performance</td>\n",
              "      <td>Compact</td>\n",
              "      <td>Coupe</td>\n",
              "      <td>28</td>\n",
              "      <td>18</td>\n",
              "      <td>3916</td>\n",
              "      <td>29450</td>\n",
              "    </tr>\n",
              "    <tr>\n",
              "      <th>4</th>\n",
              "      <td>BMW</td>\n",
              "      <td>1 Series</td>\n",
              "      <td>2011</td>\n",
              "      <td>premium unleaded (required)</td>\n",
              "      <td>230.0</td>\n",
              "      <td>6.0</td>\n",
              "      <td>MANUAL</td>\n",
              "      <td>rear wheel drive</td>\n",
              "      <td>2.0</td>\n",
              "      <td>Luxury</td>\n",
              "      <td>Compact</td>\n",
              "      <td>Convertible</td>\n",
              "      <td>28</td>\n",
              "      <td>18</td>\n",
              "      <td>3916</td>\n",
              "      <td>34500</td>\n",
              "    </tr>\n",
              "  </tbody>\n",
              "</table>\n",
              "</div>"
            ],
            "text/plain": [
              "  Make       Model  Year  ... city mpg  Popularity   MSRP\n",
              "0  BMW  1 Series M  2011  ...       19        3916  46135\n",
              "1  BMW    1 Series  2011  ...       19        3916  40650\n",
              "2  BMW    1 Series  2011  ...       20        3916  36350\n",
              "3  BMW    1 Series  2011  ...       18        3916  29450\n",
              "4  BMW    1 Series  2011  ...       18        3916  34500\n",
              "\n",
              "[5 rows x 16 columns]"
            ]
          },
          "metadata": {},
          "execution_count": 5
        }
      ]
    },
    {
      "cell_type": "markdown",
      "metadata": {
        "id": "3I0GP8y7FHcd"
      },
      "source": [
        "# Question 1: What's the version of NumPy that you installed?"
      ]
    },
    {
      "cell_type": "code",
      "metadata": {
        "colab": {
          "base_uri": "https://localhost:8080/"
        },
        "id": "YEt_XatkFRlr",
        "outputId": "7677092c-b3ef-4ac1-81e0-acbdeb3f1013"
      },
      "source": [
        "print(\"My numpy version is {}\".format(np.__version__))"
      ],
      "execution_count": 2,
      "outputs": [
        {
          "output_type": "stream",
          "name": "stdout",
          "text": [
            "My numpy version is 1.19.5\n"
          ]
        }
      ]
    },
    {
      "cell_type": "markdown",
      "metadata": {
        "id": "k_2DxLnWFXDT"
      },
      "source": [
        "# Question 2: What's the version of Pandas?"
      ]
    },
    {
      "cell_type": "code",
      "metadata": {
        "colab": {
          "base_uri": "https://localhost:8080/"
        },
        "id": "cXIP1eb7FaEi",
        "outputId": "ab152b13-7af1-4c6d-af3b-bc97f738efd4"
      },
      "source": [
        "print(\"My pandas version is {}\".format(pd.__version__))"
      ],
      "execution_count": 3,
      "outputs": [
        {
          "output_type": "stream",
          "name": "stdout",
          "text": [
            "My pandas version is 1.1.5\n"
          ]
        }
      ]
    },
    {
      "cell_type": "markdown",
      "metadata": {
        "id": "1HtIYnW1GCPV"
      },
      "source": [
        "# Question 3: What's the average price of BMW cars in the dataset?"
      ]
    },
    {
      "cell_type": "code",
      "metadata": {
        "colab": {
          "base_uri": "https://localhost:8080/"
        },
        "id": "jcyn1Rx_GOHd",
        "outputId": "00437b2f-d8a4-4855-c106-c81b5983dd2a"
      },
      "source": [
        "# Subset BMW cars \n",
        "BMW = car_price[car_price['Make'] == 'BMW']\n",
        "\n",
        "# Print average price\n",
        "print(\"The average price of BMW cars is $ {0:.2f}\".format(BMW['MSRP'].mean()))"
      ],
      "execution_count": 55,
      "outputs": [
        {
          "output_type": "stream",
          "name": "stdout",
          "text": [
            "The average price of BMW cars is $ 61546.76\n"
          ]
        }
      ]
    },
    {
      "cell_type": "markdown",
      "metadata": {
        "id": "e4tg48bgHjW4"
      },
      "source": [
        "# Question 4: Select a subset of cars after year 2015 (inclusive, i.e. 2015 and after). How many of them have missing values for Engine HP?"
      ]
    },
    {
      "cell_type": "code",
      "metadata": {
        "colab": {
          "base_uri": "https://localhost:8080/"
        },
        "id": "ywSIdnwkHlLv",
        "outputId": "69f11b2e-6d49-4a63-8eac-be763745aef7"
      },
      "source": [
        "# Subset after year 2015\n",
        "after_2015 = car_price[car_price['Year'] >= 2015]\n",
        "\n",
        "print(\"There are {} missing values in Engine HP\".format(after_2015['Engine HP'].isna().sum()))"
      ],
      "execution_count": 56,
      "outputs": [
        {
          "output_type": "stream",
          "name": "stdout",
          "text": [
            "There are 51 missing values in Engine HP\n"
          ]
        }
      ]
    },
    {
      "cell_type": "markdown",
      "metadata": {
        "id": "OSAF517aIQTJ"
      },
      "source": [
        "# Question 5"
      ]
    },
    {
      "cell_type": "markdown",
      "metadata": {
        "id": "Ssq-QesEISQ-"
      },
      "source": [
        "## Calculate the average \"Engine HP\" in the dataset"
      ]
    },
    {
      "cell_type": "code",
      "metadata": {
        "colab": {
          "base_uri": "https://localhost:8080/"
        },
        "id": "0jDoEb4IIUrW",
        "outputId": "f7f2adaa-1fd2-4bd3-bcb4-82eead9642a1"
      },
      "source": [
        "mean_engine_HP = after_2015['Engine HP'].mean()\n",
        "print(\"The average of Engine HP is {}\".format(mean_engine_HP))"
      ],
      "execution_count": 57,
      "outputs": [
        {
          "output_type": "stream",
          "name": "stdout",
          "text": [
            "The average of Engine HP is 272.98771870794076\n"
          ]
        }
      ]
    },
    {
      "cell_type": "markdown",
      "metadata": {
        "id": "DSUXx6c-Ii4q"
      },
      "source": [
        "## Use the fillna method and to fill the missing values in \"Engine HP\" with the mean value from the previous step."
      ]
    },
    {
      "cell_type": "code",
      "metadata": {
        "colab": {
          "base_uri": "https://localhost:8080/"
        },
        "id": "VnPeo6wDIlDY",
        "outputId": "96844d4d-ce4b-42d2-f9de-085e90c3be4b"
      },
      "source": [
        "after_2015['Engine HP'] = after_2015['Engine HP'].fillna(mean_engine_HP)"
      ],
      "execution_count": 58,
      "outputs": [
        {
          "output_type": "stream",
          "name": "stderr",
          "text": [
            "/usr/local/lib/python3.7/dist-packages/ipykernel_launcher.py:1: SettingWithCopyWarning: \n",
            "A value is trying to be set on a copy of a slice from a DataFrame.\n",
            "Try using .loc[row_indexer,col_indexer] = value instead\n",
            "\n",
            "See the caveats in the documentation: https://pandas.pydata.org/pandas-docs/stable/user_guide/indexing.html#returning-a-view-versus-a-copy\n",
            "  \"\"\"Entry point for launching an IPython kernel.\n"
          ]
        }
      ]
    },
    {
      "cell_type": "code",
      "metadata": {
        "colab": {
          "base_uri": "https://localhost:8080/"
        },
        "id": "KsZBlDg5QSwl",
        "outputId": "a0842b9b-0080-4619-b120-09cdb608ddf0"
      },
      "source": [
        "print(after_2015['Engine HP'].isna().sum())"
      ],
      "execution_count": 60,
      "outputs": [
        {
          "output_type": "stream",
          "name": "stdout",
          "text": [
            "0\n"
          ]
        }
      ]
    },
    {
      "cell_type": "markdown",
      "metadata": {
        "id": "uSSad8LwKCRE"
      },
      "source": [
        "## Now, calculate the average of \"Engine HP\" again."
      ]
    },
    {
      "cell_type": "code",
      "metadata": {
        "colab": {
          "base_uri": "https://localhost:8080/"
        },
        "id": "NeHD9JR5JwHB",
        "outputId": "dcdf2416-1856-430d-b83c-157de9e24ce3"
      },
      "source": [
        "new_mean_HP = after_2015['Engine HP'].mean()\n",
        "print(\"The average of Engine HP after filling NA values is {}\".format(new_mean))"
      ],
      "execution_count": 61,
      "outputs": [
        {
          "output_type": "stream",
          "name": "stdout",
          "text": [
            "The average of Engine HP after filling NA values is 272.98771870794116\n"
          ]
        }
      ]
    },
    {
      "cell_type": "markdown",
      "metadata": {
        "id": "Q7EzudFSKQRe"
      },
      "source": [
        "## Has it changed?"
      ]
    },
    {
      "cell_type": "code",
      "metadata": {
        "colab": {
          "base_uri": "https://localhost:8080/"
        },
        "id": "MWJvzJRkKS03",
        "outputId": "1c694791-bb30-4cae-fa03-f213e385fb75"
      },
      "source": [
        "new_mean_HP == mean_engine_HP"
      ],
      "execution_count": 62,
      "outputs": [
        {
          "output_type": "execute_result",
          "data": {
            "text/plain": [
              "False"
            ]
          },
          "metadata": {},
          "execution_count": 62
        }
      ]
    },
    {
      "cell_type": "markdown",
      "metadata": {
        "id": "Ik-j_Mf6KlZl"
      },
      "source": [
        "The average is still the same eventhough we have filled the missing values with previous means of Engine HP"
      ]
    },
    {
      "cell_type": "markdown",
      "metadata": {
        "id": "hLmWvlKGKwie"
      },
      "source": [
        "# Question 6"
      ]
    },
    {
      "cell_type": "markdown",
      "metadata": {
        "id": "DLq8rHvSKyb-"
      },
      "source": [
        "## Select all the \"Rolls-Royce\" cars from the dataset."
      ]
    },
    {
      "cell_type": "code",
      "metadata": {
        "id": "39sm0Fj8K0U-"
      },
      "source": [
        "rolls_royce = car_price[car_price['Make'] == 'Rolls-Royce']"
      ],
      "execution_count": 36,
      "outputs": []
    },
    {
      "cell_type": "markdown",
      "metadata": {
        "id": "zdF8f48kK5Hf"
      },
      "source": [
        "## Select only columns \"Engine HP\", \"Engine Cylinders\", \"highway MPG\"."
      ]
    },
    {
      "cell_type": "code",
      "metadata": {
        "id": "r63TZ50GK7YS"
      },
      "source": [
        "rolls_royce = rolls_royce[['Engine HP','Engine Cylinders','highway MPG']]"
      ],
      "execution_count": 37,
      "outputs": []
    },
    {
      "cell_type": "code",
      "metadata": {
        "colab": {
          "base_uri": "https://localhost:8080/",
          "height": 1000
        },
        "id": "0Gj7XlwGLAtA",
        "outputId": "3b3384fa-ffc8-4098-b62e-1a8e46115feb"
      },
      "source": [
        "rolls_royce"
      ],
      "execution_count": 39,
      "outputs": [
        {
          "output_type": "execute_result",
          "data": {
            "text/html": [
              "<div>\n",
              "<style scoped>\n",
              "    .dataframe tbody tr th:only-of-type {\n",
              "        vertical-align: middle;\n",
              "    }\n",
              "\n",
              "    .dataframe tbody tr th {\n",
              "        vertical-align: top;\n",
              "    }\n",
              "\n",
              "    .dataframe thead th {\n",
              "        text-align: right;\n",
              "    }\n",
              "</style>\n",
              "<table border=\"1\" class=\"dataframe\">\n",
              "  <thead>\n",
              "    <tr style=\"text-align: right;\">\n",
              "      <th></th>\n",
              "      <th>Engine HP</th>\n",
              "      <th>Engine Cylinders</th>\n",
              "      <th>highway MPG</th>\n",
              "    </tr>\n",
              "  </thead>\n",
              "  <tbody>\n",
              "    <tr>\n",
              "      <th>2921</th>\n",
              "      <td>325.0</td>\n",
              "      <td>8.0</td>\n",
              "      <td>15</td>\n",
              "    </tr>\n",
              "    <tr>\n",
              "      <th>3505</th>\n",
              "      <td>563.0</td>\n",
              "      <td>12.0</td>\n",
              "      <td>19</td>\n",
              "    </tr>\n",
              "    <tr>\n",
              "      <th>5275</th>\n",
              "      <td>563.0</td>\n",
              "      <td>12.0</td>\n",
              "      <td>21</td>\n",
              "    </tr>\n",
              "    <tr>\n",
              "      <th>5276</th>\n",
              "      <td>563.0</td>\n",
              "      <td>12.0</td>\n",
              "      <td>21</td>\n",
              "    </tr>\n",
              "    <tr>\n",
              "      <th>5277</th>\n",
              "      <td>563.0</td>\n",
              "      <td>12.0</td>\n",
              "      <td>21</td>\n",
              "    </tr>\n",
              "    <tr>\n",
              "      <th>5278</th>\n",
              "      <td>563.0</td>\n",
              "      <td>12.0</td>\n",
              "      <td>21</td>\n",
              "    </tr>\n",
              "    <tr>\n",
              "      <th>5279</th>\n",
              "      <td>563.0</td>\n",
              "      <td>12.0</td>\n",
              "      <td>20</td>\n",
              "    </tr>\n",
              "    <tr>\n",
              "      <th>5280</th>\n",
              "      <td>563.0</td>\n",
              "      <td>12.0</td>\n",
              "      <td>20</td>\n",
              "    </tr>\n",
              "    <tr>\n",
              "      <th>5281</th>\n",
              "      <td>563.0</td>\n",
              "      <td>12.0</td>\n",
              "      <td>21</td>\n",
              "    </tr>\n",
              "    <tr>\n",
              "      <th>5282</th>\n",
              "      <td>563.0</td>\n",
              "      <td>12.0</td>\n",
              "      <td>21</td>\n",
              "    </tr>\n",
              "    <tr>\n",
              "      <th>5283</th>\n",
              "      <td>563.0</td>\n",
              "      <td>12.0</td>\n",
              "      <td>21</td>\n",
              "    </tr>\n",
              "    <tr>\n",
              "      <th>5284</th>\n",
              "      <td>563.0</td>\n",
              "      <td>12.0</td>\n",
              "      <td>21</td>\n",
              "    </tr>\n",
              "    <tr>\n",
              "      <th>7443</th>\n",
              "      <td>322.0</td>\n",
              "      <td>12.0</td>\n",
              "      <td>15</td>\n",
              "    </tr>\n",
              "    <tr>\n",
              "      <th>7444</th>\n",
              "      <td>322.0</td>\n",
              "      <td>12.0</td>\n",
              "      <td>15</td>\n",
              "    </tr>\n",
              "    <tr>\n",
              "      <th>7553</th>\n",
              "      <td>453.0</td>\n",
              "      <td>12.0</td>\n",
              "      <td>19</td>\n",
              "    </tr>\n",
              "    <tr>\n",
              "      <th>7554</th>\n",
              "      <td>453.0</td>\n",
              "      <td>12.0</td>\n",
              "      <td>19</td>\n",
              "    </tr>\n",
              "    <tr>\n",
              "      <th>7555</th>\n",
              "      <td>453.0</td>\n",
              "      <td>12.0</td>\n",
              "      <td>19</td>\n",
              "    </tr>\n",
              "    <tr>\n",
              "      <th>7556</th>\n",
              "      <td>453.0</td>\n",
              "      <td>12.0</td>\n",
              "      <td>19</td>\n",
              "    </tr>\n",
              "    <tr>\n",
              "      <th>7557</th>\n",
              "      <td>453.0</td>\n",
              "      <td>12.0</td>\n",
              "      <td>19</td>\n",
              "    </tr>\n",
              "    <tr>\n",
              "      <th>7558</th>\n",
              "      <td>453.0</td>\n",
              "      <td>12.0</td>\n",
              "      <td>19</td>\n",
              "    </tr>\n",
              "    <tr>\n",
              "      <th>7559</th>\n",
              "      <td>453.0</td>\n",
              "      <td>12.0</td>\n",
              "      <td>19</td>\n",
              "    </tr>\n",
              "    <tr>\n",
              "      <th>7560</th>\n",
              "      <td>453.0</td>\n",
              "      <td>12.0</td>\n",
              "      <td>19</td>\n",
              "    </tr>\n",
              "    <tr>\n",
              "      <th>7561</th>\n",
              "      <td>453.0</td>\n",
              "      <td>12.0</td>\n",
              "      <td>19</td>\n",
              "    </tr>\n",
              "    <tr>\n",
              "      <th>7562</th>\n",
              "      <td>453.0</td>\n",
              "      <td>12.0</td>\n",
              "      <td>19</td>\n",
              "    </tr>\n",
              "    <tr>\n",
              "      <th>7563</th>\n",
              "      <td>453.0</td>\n",
              "      <td>12.0</td>\n",
              "      <td>19</td>\n",
              "    </tr>\n",
              "    <tr>\n",
              "      <th>7564</th>\n",
              "      <td>453.0</td>\n",
              "      <td>12.0</td>\n",
              "      <td>19</td>\n",
              "    </tr>\n",
              "    <tr>\n",
              "      <th>9431</th>\n",
              "      <td>322.0</td>\n",
              "      <td>12.0</td>\n",
              "      <td>15</td>\n",
              "    </tr>\n",
              "    <tr>\n",
              "      <th>9432</th>\n",
              "      <td>322.0</td>\n",
              "      <td>12.0</td>\n",
              "      <td>15</td>\n",
              "    </tr>\n",
              "    <tr>\n",
              "      <th>11448</th>\n",
              "      <td>624.0</td>\n",
              "      <td>12.0</td>\n",
              "      <td>21</td>\n",
              "    </tr>\n",
              "    <tr>\n",
              "      <th>11449</th>\n",
              "      <td>624.0</td>\n",
              "      <td>12.0</td>\n",
              "      <td>21</td>\n",
              "    </tr>\n",
              "    <tr>\n",
              "      <th>11450</th>\n",
              "      <td>624.0</td>\n",
              "      <td>12.0</td>\n",
              "      <td>21</td>\n",
              "    </tr>\n",
              "  </tbody>\n",
              "</table>\n",
              "</div>"
            ],
            "text/plain": [
              "       Engine HP  Engine Cylinders  highway MPG\n",
              "2921       325.0               8.0           15\n",
              "3505       563.0              12.0           19\n",
              "5275       563.0              12.0           21\n",
              "5276       563.0              12.0           21\n",
              "5277       563.0              12.0           21\n",
              "5278       563.0              12.0           21\n",
              "5279       563.0              12.0           20\n",
              "5280       563.0              12.0           20\n",
              "5281       563.0              12.0           21\n",
              "5282       563.0              12.0           21\n",
              "5283       563.0              12.0           21\n",
              "5284       563.0              12.0           21\n",
              "7443       322.0              12.0           15\n",
              "7444       322.0              12.0           15\n",
              "7553       453.0              12.0           19\n",
              "7554       453.0              12.0           19\n",
              "7555       453.0              12.0           19\n",
              "7556       453.0              12.0           19\n",
              "7557       453.0              12.0           19\n",
              "7558       453.0              12.0           19\n",
              "7559       453.0              12.0           19\n",
              "7560       453.0              12.0           19\n",
              "7561       453.0              12.0           19\n",
              "7562       453.0              12.0           19\n",
              "7563       453.0              12.0           19\n",
              "7564       453.0              12.0           19\n",
              "9431       322.0              12.0           15\n",
              "9432       322.0              12.0           15\n",
              "11448      624.0              12.0           21\n",
              "11449      624.0              12.0           21\n",
              "11450      624.0              12.0           21"
            ]
          },
          "metadata": {},
          "execution_count": 39
        }
      ]
    },
    {
      "cell_type": "markdown",
      "metadata": {
        "id": "AX9TBcSCLHp-"
      },
      "source": [
        "## Drop all duplicated rows using drop_duplicates method (you should get a dataframe with 7 rows)."
      ]
    },
    {
      "cell_type": "code",
      "metadata": {
        "id": "cwJrLFRYLKOe"
      },
      "source": [
        "rolls_royce.drop_duplicates(inplace = True)"
      ],
      "execution_count": 40,
      "outputs": []
    },
    {
      "cell_type": "code",
      "metadata": {
        "colab": {
          "base_uri": "https://localhost:8080/",
          "height": 265
        },
        "id": "w3hlnaRBLVsU",
        "outputId": "742e9ebd-3604-45bf-c9a3-f7774f40d0d7"
      },
      "source": [
        "rolls_royce"
      ],
      "execution_count": 41,
      "outputs": [
        {
          "output_type": "execute_result",
          "data": {
            "text/html": [
              "<div>\n",
              "<style scoped>\n",
              "    .dataframe tbody tr th:only-of-type {\n",
              "        vertical-align: middle;\n",
              "    }\n",
              "\n",
              "    .dataframe tbody tr th {\n",
              "        vertical-align: top;\n",
              "    }\n",
              "\n",
              "    .dataframe thead th {\n",
              "        text-align: right;\n",
              "    }\n",
              "</style>\n",
              "<table border=\"1\" class=\"dataframe\">\n",
              "  <thead>\n",
              "    <tr style=\"text-align: right;\">\n",
              "      <th></th>\n",
              "      <th>Engine HP</th>\n",
              "      <th>Engine Cylinders</th>\n",
              "      <th>highway MPG</th>\n",
              "    </tr>\n",
              "  </thead>\n",
              "  <tbody>\n",
              "    <tr>\n",
              "      <th>2921</th>\n",
              "      <td>325.0</td>\n",
              "      <td>8.0</td>\n",
              "      <td>15</td>\n",
              "    </tr>\n",
              "    <tr>\n",
              "      <th>3505</th>\n",
              "      <td>563.0</td>\n",
              "      <td>12.0</td>\n",
              "      <td>19</td>\n",
              "    </tr>\n",
              "    <tr>\n",
              "      <th>5275</th>\n",
              "      <td>563.0</td>\n",
              "      <td>12.0</td>\n",
              "      <td>21</td>\n",
              "    </tr>\n",
              "    <tr>\n",
              "      <th>5279</th>\n",
              "      <td>563.0</td>\n",
              "      <td>12.0</td>\n",
              "      <td>20</td>\n",
              "    </tr>\n",
              "    <tr>\n",
              "      <th>7443</th>\n",
              "      <td>322.0</td>\n",
              "      <td>12.0</td>\n",
              "      <td>15</td>\n",
              "    </tr>\n",
              "    <tr>\n",
              "      <th>7553</th>\n",
              "      <td>453.0</td>\n",
              "      <td>12.0</td>\n",
              "      <td>19</td>\n",
              "    </tr>\n",
              "    <tr>\n",
              "      <th>11448</th>\n",
              "      <td>624.0</td>\n",
              "      <td>12.0</td>\n",
              "      <td>21</td>\n",
              "    </tr>\n",
              "  </tbody>\n",
              "</table>\n",
              "</div>"
            ],
            "text/plain": [
              "       Engine HP  Engine Cylinders  highway MPG\n",
              "2921       325.0               8.0           15\n",
              "3505       563.0              12.0           19\n",
              "5275       563.0              12.0           21\n",
              "5279       563.0              12.0           20\n",
              "7443       322.0              12.0           15\n",
              "7553       453.0              12.0           19\n",
              "11448      624.0              12.0           21"
            ]
          },
          "metadata": {},
          "execution_count": 41
        }
      ]
    },
    {
      "cell_type": "markdown",
      "metadata": {
        "id": "uSSyLupOLd-3"
      },
      "source": [
        "## Get the underlying NumPy array. Let's call it X."
      ]
    },
    {
      "cell_type": "code",
      "metadata": {
        "id": "QQlsy_01Lnzl"
      },
      "source": [
        "X = np.array(rolls_royce)"
      ],
      "execution_count": 42,
      "outputs": []
    },
    {
      "cell_type": "code",
      "metadata": {
        "colab": {
          "base_uri": "https://localhost:8080/"
        },
        "id": "BtzxJXM1L5uz",
        "outputId": "7d701681-9c02-4831-f314-00afc7a9750d"
      },
      "source": [
        "X"
      ],
      "execution_count": 43,
      "outputs": [
        {
          "output_type": "execute_result",
          "data": {
            "text/plain": [
              "array([[325.,   8.,  15.],\n",
              "       [563.,  12.,  19.],\n",
              "       [563.,  12.,  21.],\n",
              "       [563.,  12.,  20.],\n",
              "       [322.,  12.,  15.],\n",
              "       [453.,  12.,  19.],\n",
              "       [624.,  12.,  21.]])"
            ]
          },
          "metadata": {},
          "execution_count": 43
        }
      ]
    },
    {
      "cell_type": "markdown",
      "metadata": {
        "id": "DgZJwFeDL3K0"
      },
      "source": [
        "## Compute matrix-matrix multiplication between the transpose of X and X. To get the transpose, use X.T. Let's call the result XTX."
      ]
    },
    {
      "cell_type": "code",
      "metadata": {
        "colab": {
          "base_uri": "https://localhost:8080/"
        },
        "id": "iZ84_Ho3OISg",
        "outputId": "ca8322f3-2d31-44c8-f8c4-cddae08b2189"
      },
      "source": [
        "XT = np.transpose(X)\n",
        "XTX = np.matmul(XT, X)\n",
        "print(XTX)"
      ],
      "execution_count": 45,
      "outputs": [
        {
          "output_type": "stream",
          "name": "stdout",
          "text": [
            "[[1.754801e+06 3.965600e+04 6.519600e+04]\n",
            " [3.965600e+04 9.280000e+02 1.500000e+03]\n",
            " [6.519600e+04 1.500000e+03 2.454000e+03]]\n"
          ]
        }
      ]
    },
    {
      "cell_type": "markdown",
      "metadata": {
        "id": "zHjqNHIcOa67"
      },
      "source": [
        "## Invert XTX"
      ]
    },
    {
      "cell_type": "code",
      "metadata": {
        "colab": {
          "base_uri": "https://localhost:8080/"
        },
        "id": "YWfosf9aOdX3",
        "outputId": "8c86b55c-c0dd-4831-e8bf-286f3c207bed"
      },
      "source": [
        "XTX_inverse = np.linalg.inv(XTX)\n",
        "print(XTX_inverse)"
      ],
      "execution_count": 47,
      "outputs": [
        {
          "output_type": "stream",
          "name": "stdout",
          "text": [
            "[[ 5.17815728e-05  9.06587044e-04 -1.92984188e-03]\n",
            " [ 9.06587044e-04  1.05723058e-01 -8.87084092e-02]\n",
            " [-1.92984188e-03 -8.87084092e-02  1.05900809e-01]]\n"
          ]
        }
      ]
    },
    {
      "cell_type": "markdown",
      "metadata": {
        "id": "WqJ0gfy-OzIO"
      },
      "source": [
        "## What's the sum of all the elements of the result?"
      ]
    },
    {
      "cell_type": "code",
      "metadata": {
        "colab": {
          "base_uri": "https://localhost:8080/"
        },
        "id": "wXTaUtt3O1sQ",
        "outputId": "6cc19b63-37aa-48ba-c5ae-7b4a77534d8c"
      },
      "source": [
        "print(\"The sum of all elements of the inverse XTX is {}\".format(np.sum(XTX_inverse)))"
      ],
      "execution_count": 49,
      "outputs": [
        {
          "output_type": "stream",
          "name": "stdout",
          "text": [
            "The sum of all elements of the inverse XTX is 0.032212320677486125\n"
          ]
        }
      ]
    },
    {
      "cell_type": "markdown",
      "metadata": {
        "id": "1w4ie9BcPUGw"
      },
      "source": [
        "# Question 7"
      ]
    },
    {
      "cell_type": "markdown",
      "metadata": {
        "id": "12NghNSCPX1g"
      },
      "source": [
        "## Create an array y with values [1000, 1100, 900, 1200, 1000, 850, 1300]."
      ]
    },
    {
      "cell_type": "code",
      "metadata": {
        "id": "HKVQZ16hPaLU"
      },
      "source": [
        "y = [1000, 1100, 900, 1200, 1000, 850, 1300]"
      ],
      "execution_count": 50,
      "outputs": []
    },
    {
      "cell_type": "markdown",
      "metadata": {
        "id": "8FBc1eCCPcBY"
      },
      "source": [
        "## Multiply the inverse of XTX with the transpose of X, and then multiply the result by y. Call the result w."
      ]
    },
    {
      "cell_type": "code",
      "metadata": {
        "id": "B7mepq1pPh4c"
      },
      "source": [
        "w = np.matmul(np.matmul(XTX_inverse, XT), y)"
      ],
      "execution_count": 51,
      "outputs": []
    },
    {
      "cell_type": "code",
      "metadata": {
        "colab": {
          "base_uri": "https://localhost:8080/"
        },
        "id": "IZLnRxu0Ppko",
        "outputId": "669a80de-208f-4211-f0f2-bc39cf3247d9"
      },
      "source": [
        "print(w)"
      ],
      "execution_count": 52,
      "outputs": [
        {
          "output_type": "stream",
          "name": "stdout",
          "text": [
            "[ 0.19989598 31.02612262 31.65378877]\n"
          ]
        }
      ]
    },
    {
      "cell_type": "markdown",
      "metadata": {
        "id": "f8JCK7vbP1ZA"
      },
      "source": [
        "## What's the value of the first element of w?"
      ]
    },
    {
      "cell_type": "code",
      "metadata": {
        "colab": {
          "base_uri": "https://localhost:8080/"
        },
        "id": "n9qnutkfP5i5",
        "outputId": "b73fc0d6-3b84-4a49-e74c-d0a09cdf23e2"
      },
      "source": [
        "print(\"The value of the first element of w is {}\".format(w[0]))"
      ],
      "execution_count": 54,
      "outputs": [
        {
          "output_type": "stream",
          "name": "stdout",
          "text": [
            "The value of the first element of w is 0.19989598183188978\n"
          ]
        }
      ]
    }
  ]
}